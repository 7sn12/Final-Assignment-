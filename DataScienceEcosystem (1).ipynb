{
  "metadata": {
    "kernelspec": {
      "name": "python",
      "display_name": "Python (Pyodide)",
      "language": "python"
    },
    "language_info": {
      "codemirror_mode": {
        "name": "python",
        "version": 3
      },
      "file_extension": ".py",
      "mimetype": "text/x-python",
      "name": "python",
      "nbconvert_exporter": "python",
      "pygments_lexer": "ipython3",
      "version": "3.8"
    }
  },
  "nbformat_minor": 5,
  "nbformat": 4,
  "cells": [
    {
      "id": "c64df530-78a6-473c-bde4-c1206c91d72e",
      "cell_type": "markdown",
      "source": "# Data Science Tools and Ecosystem\n",
      "metadata": {}
    },
    {
      "id": "630ac552-a7f8-4730-a832-ebef7470a90a",
      "cell_type": "markdown",
      "source": "In this notebook, Data Science Tools and Ecosystem are summarized.\n",
      "metadata": {}
    },
    {
      "id": "b95a741d-dd5e-4f13-8288-55eced37e927",
      "cell_type": "markdown",
      "source": "Some of the popular languages that Data Scientists use are:\n\n1. Python  \n2. R  \n3. SQL  \n4. Julia  \n5. Scala\n",
      "metadata": {}
    },
    {
      "id": "d1a3e398-52bc-421a-9826-b9093b86cb37",
      "cell_type": "markdown",
      "source": "Some of the commonly used libraries used by Data Scientists include:\n\n1. Pandas  \n2. NumPy  \n3. Matplotlib  \n4. Scikit-learn  \n5. TensorFlow\n",
      "metadata": {}
    },
    {
      "id": "609d0228-dae5-4831-9c1e-9056aa47aaae",
      "cell_type": "markdown",
      "source": "| Data Science Tools        |\n|---------------------------|\n| Jupyter Notebook          |\n| RStudio                   |\n| VS Code                   |\n",
      "metadata": {}
    },
    {
      "id": "d2c5986e-afc0-4727-92db-302e03176e00",
      "cell_type": "markdown",
      "source": "### Below are a few examples of evaluating arithmetic expressions in Python.\n",
      "metadata": {}
    },
    {
      "id": "f516acc1-988d-4279-a8e9-66e3d5f9369f",
      "cell_type": "markdown",
      "source": "##### This is a simple arithmetic expression to multiply then add integers\n(3 * 4) + 5\n",
      "metadata": {}
    },
    {
      "id": "7e46c21b-58f2-4773-8f82-fe2b5a292686",
      "cell_type": "markdown",
      "source": "##### This will convert 200 minutes to hours by dividing by 60\n200 / 60\n",
      "metadata": {}
    },
    {
      "id": "d686ccd7-a565-4cfa-b91a-416cb34c5df7",
      "cell_type": "markdown",
      "source": "**Objectives:**\n\n- List popular languages for Data Science  \n- List commonly used libraries for Data Science  \n- Create and format markdown cells in Jupyter  \n- Write and execute Python code in code cells  \n- Create and share a Jupyter Notebook\n",
      "metadata": {}
    }
  ]
}